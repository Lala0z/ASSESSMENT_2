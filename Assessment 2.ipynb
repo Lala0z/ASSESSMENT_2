{
 "cells": [
  {
   "cell_type": "code",
   "execution_count": 1,
   "id": "7a4159a1",
   "metadata": {},
   "outputs": [],
   "source": [
    "#Importing libraries\n",
    "\n",
    "import numpy as np\n",
    "from matplotlib import pyplot as plt\n",
    "import pandas as pd\n",
    "%matplotlib inline"
   ]
  },
  {
   "cell_type": "code",
   "execution_count": 2,
   "id": "91711d7b",
   "metadata": {},
   "outputs": [],
   "source": [
    "#Importing dataset\n",
    "\n",
    "data=pd.read_csv(\"C:\\\\Users\\\\USER\\\\Desktop\\\\data.csv\")\n",
    "df = pd.DataFrame(data)\n",
    "X = df.iloc[:,[1, 2, 4, 5, 6]].values\n",
    "y = df.iloc[:,7].values"
   ]
  },
  {
   "cell_type": "code",
   "execution_count": 3,
   "id": "d94f9bee",
   "metadata": {},
   "outputs": [
    {
     "data": {
      "text/plain": [
       "<matplotlib.collections.PathCollection at 0x2481345ceb0>"
      ]
     },
     "execution_count": 3,
     "metadata": {},
     "output_type": "execute_result"
    },
    {
     "data": {
      "image/png": "[encoded data removed]",
      "text/plain": [
       "<Figure size 432x288 with 1 Axes>"
      ]
     },
     "metadata": {
      "needs_background": "light"
     },
     "output_type": "display_data"
    }
   ],
   "source": [
    "#Checking the correlation between the various features and label\n",
    "\n",
    "plt.scatter(df['longitude'], df['RoomType'])\n",
    "plt.scatter(df['latitude'], df['RoomType'])\n",
    "plt.scatter(df['price'], df['RoomType'])\n",
    "plt.scatter(df['minimum_nights'], df['RoomType'])\n",
    "plt.scatter(df['Neighbourhood'], df['RoomType'])"
   ]
  },
  {
   "cell_type": "code",
   "execution_count": 4,
   "id": "d298856b",
   "metadata": {},
   "outputs": [],
   "source": [
    "#Splitting the dataset into Training and Test Sets\n",
    "\n",
    "from sklearn.model_selection import train_test_split\n",
    "X_train, X_test, y_train, y_test = train_test_split(X, y, test_size = 0.30, random_state=0)"
   ]
  },
  {
   "cell_type": "code",
   "execution_count": 5,
   "id": "57fa139b",
   "metadata": {},
   "outputs": [],
   "source": [
    "#Performing Feature Scaling on the dataset\n",
    "\n",
    "from sklearn.preprocessing import StandardScaler\n",
    "scaler = StandardScaler()\n",
    "scaler.fit(X_train)\n",
    "X_train = scaler.transform(X_train)\n",
    "X_test = scaler.transform(X_test)\n"
   ]
  },
  {
   "cell_type": "code",
   "execution_count": 6,
   "id": "e6c61c5d",
   "metadata": {},
   "outputs": [
    {
     "data": {
      "text/plain": [
       "KNeighborsClassifier()"
      ]
     },
     "execution_count": 6,
     "metadata": {},
     "output_type": "execute_result"
    }
   ],
   "source": [
    "#Fitting K-Nearest Neighbors to the Training Set\n",
    "\n",
    "from sklearn.neighbors import KNeighborsClassifier\n",
    "classifier = KNeighborsClassifier(n_neighbors=5)\n",
    "classifier.fit(X_train, y_train)"
   ]
  },
  {
   "cell_type": "code",
   "execution_count": 7,
   "id": "1ef228c0",
   "metadata": {},
   "outputs": [],
   "source": [
    "#Predicting the Test set results\n",
    "\n",
    "y_pred = classifier.predict(X_test)"
   ]
  },
  {
   "cell_type": "code",
   "execution_count": 8,
   "id": "f4f57f62",
   "metadata": {
    "scrolled": true
   },
   "outputs": [
    {
     "name": "stdout",
     "output_type": "stream",
     "text": [
      "              precision    recall  f1-score   support\n",
      "\n",
      "          -1       0.83      0.85      0.84      7599\n",
      "           0       0.63      0.34      0.44       349\n",
      "           1       0.81      0.80      0.80      6721\n",
      "\n",
      "    accuracy                           0.82     14669\n",
      "   macro avg       0.75      0.66      0.69     14669\n",
      "weighted avg       0.81      0.82      0.81     14669\n",
      "\n",
      "[[6482    7 1110]\n",
      " [  47  117  185]\n",
      " [1291   62 5368]]\n"
     ]
    }
   ],
   "source": [
    "#Generating a Classification Report and the Confusion Matrix/ Error Matrix \n",
    "\n",
    "from sklearn.metrics import classification_report, confusion_matrix\n",
    "cm = confusion_matrix(y_test, y_pred)\n",
    "print(classification_report(y_test, y_pred))\n",
    "print(cm)"
   ]
  },
  {
   "cell_type": "markdown",
   "id": "f61783d7",
   "metadata": {},
   "source": [
    "EXPLAINING THE VARIOUS PARAMETERS\n",
    "\n",
    "-PRECISION: The ability of a classifier not to label an instance positive that is actually negative. It shows what percentage of your predictions were correct.\n",
    "\n",
    "-RECALL: The ability of a classifier to find all positive instances. It shows the percentage of the positive cases the classifier was able to catch. \n",
    "\n",
    "-F1 SCORE: This is simply a merge of recall and precision. If the F1 Score is high then usually both recall and precision tend to be high. If it is low then the recall and precision tend to be bad.\n",
    "\n"
   ]
  }
 ],
 "metadata": {
  "kernelspec": {
   "display_name": "Python 3 (ipykernel)",
   "language": "python",
   "name": "python3"
  },
  "language_info": {
   "codemirror_mode": {
    "name": "ipython",
    "version": 3
   },
   "file_extension": ".py",
   "mimetype": "text/x-python",
   "name": "python",
   "nbconvert_exporter": "python",
   "pygments_lexer": "ipython3",
   "version": "3.9.12"
  }
 },
 "nbformat": 4,
 "nbformat_minor": 5
}
